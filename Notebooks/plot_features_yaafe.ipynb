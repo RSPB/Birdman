{
 "cells": [
  {
   "cell_type": "code",
   "execution_count": null,
   "metadata": {},
   "outputs": [],
   "source": [
    "import sys, os\n",
    "pardir = os.path.abspath(os.path.join(os.path.dirname('__file__'), os.path.pardir))\n",
    "sys.path.append(pardir)\n",
    "\n",
    "import numpy as np\n",
    "import yaafelib\n",
    "import matplotlib.pyplot as plt\n",
    "from scipy.io import wavfile\n",
    "from read_labels import read_labels\n",
    "\n",
    "%matplotlib inline"
   ]
  },
  {
   "cell_type": "code",
   "execution_count": null,
   "metadata": {},
   "outputs": [],
   "source": [
    "rootdir = '/home/tracek/Data/Birdman/'\n",
    "filename = os.path.join(rootdir, 'raw/STHELENA-02_20140605_200000_1.wav')\n",
    "path = os.path.join(root_path, filename) \n",
    "sheets = read_labels('/home/tracek/Data/Birdman/labels/sthelena_labels.xls')\n",
    "filename_noext = os.path.splitext(os.path.basename(filename))[0]\n",
    "sheet = sheets[filename_noext]\n",
    "\n",
    "sample_start = 3 * 60\n",
    "sample_len = 60 # seconds\n",
    "sample_end = sample_start + sample_len\n",
    "step_size = 512 # no. of samples"
   ]
  },
  {
   "cell_type": "code",
   "execution_count": null,
   "metadata": {},
   "outputs": [],
   "source": [
    "rate, signal = wavfile.read(path)\n",
    "sample = signal[sample_start * rate:(sample_start + sample_len) * rate]\n",
    "\n",
    "feature_plan = yaafelib.FeaturePlan(sample_rate=rate, normalize=True)\n",
    "features_config_path = os.path.join(pardir, 'features.config') \n",
    "success = feature_plan.loadFeaturePlan(features_config_path)\n",
    "engine = yaafelib.Engine()\n",
    "engine.load(feature_plan.getDataFlow())\n",
    "feats = engine.processAudio(sample.reshape(1, -1).astype('float64'))"
   ]
  },
  {
   "cell_type": "code",
   "execution_count": null,
   "metadata": {},
   "outputs": [],
   "source": [
    "condition = (sheet['Time Start'] > sample_start) & (sheet['Time End'] < sample_end)\n",
    "sheet_sample = sheet_selected[condition]"
   ]
  },
  {
   "cell_type": "code",
   "execution_count": null,
   "metadata": {},
   "outputs": [],
   "source": [
    "print('No. of calls: {}'.format(len(sheet_sample)))\n",
    "sheet_sample"
   ]
  },
  {
   "cell_type": "code",
   "execution_count": null,
   "metadata": {},
   "outputs": [],
   "source": [
    "def plot_feature(feature, start=0, sheet=None):\n",
    "    cutoff = 5 # to counter edge effects when calculatig derivatives\n",
    "    feature = feature[cutoff:-cutoff,:]\n",
    "    x_spacing = np.linspace(sample_start, sample_start+sample_len, len(feature))\n",
    "\n",
    "    no_figures = feature.shape[1]\n",
    "    if no_figures == 1:\n",
    "        plt.figure(figsize=(15,5))\n",
    "        plt.plot(x_spacing, feature)\n",
    "        if sheet is not None:\n",
    "            plot_feature_location(plt, sheet)\n",
    "    else:\n",
    "        f, ax = plt.subplots(no_figures, 1, sharex=True, figsize=(15,15))\n",
    "        for idx in range(no_figures):\n",
    "            ax[idx].plot(x_spacing, feature[:, idx])\n",
    "            if sheet is not None:\n",
    "                plot_feature_location(ax[idx], sheet)\n",
    "\n",
    "def plot_feature_location(axis, sheet):\n",
    "    for index, row in sheet.iterrows():\n",
    "        if row['Species'] == 'Storm Petrel':\n",
    "            axis.axvspan(xmin=row['Time Start'], xmax=row['Time End'], color='red', alpha=0.1)\n",
    "        else:\n",
    "            axis.axvspan(xmin=row['Time Start'], xmax=row['Time End'], color='green', alpha=0.1)"
   ]
  },
  {
   "cell_type": "code",
   "execution_count": null,
   "metadata": {},
   "outputs": [],
   "source": [
    "plot_feature(feats['LSF_d2'], start=sample_start, sheet=sheet_sample)"
   ]
  },
  {
   "cell_type": "code",
   "execution_count": null,
   "metadata": {},
   "outputs": [],
   "source": [
    "sheet_sample"
   ]
  },
  {
   "cell_type": "code",
   "execution_count": null,
   "metadata": {},
   "outputs": [],
   "source": []
  }
 ],
 "metadata": {
  "kernelspec": {
   "display_name": "Python 3",
   "language": "python",
   "name": "python3"
  },
  "language_info": {
   "codemirror_mode": {
    "name": "ipython",
    "version": 3
   },
   "file_extension": ".py",
   "mimetype": "text/x-python",
   "name": "python",
   "nbconvert_exporter": "python",
   "pygments_lexer": "ipython3",
   "version": "3.5.2"
  }
 },
 "nbformat": 4,
 "nbformat_minor": 1
}
