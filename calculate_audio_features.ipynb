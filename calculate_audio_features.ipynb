{
 "cells": [
  {
   "cell_type": "code",
   "execution_count": null,
   "metadata": {
    "collapsed": false,
    "deletable": true,
    "editable": true
   },
   "outputs": [],
   "source": [
    "import numpy as np\n",
    "import yaafelib\n",
    "import matplotlib\n",
    "import matplotlib.pyplot as plt\n",
    "from scipy.io import wavfile\n",
    "from read_labels import read_labels\n",
    "\n",
    "%matplotlib inline  "
   ]
  },
  {
   "cell_type": "code",
   "execution_count": null,
   "metadata": {
    "collapsed": false,
    "deletable": true,
    "editable": true
   },
   "outputs": [],
   "source": [
    "path = '/home/tracek/Projects/birdman/STHELENA-02_20140605_200000_1_16knorm.wav'\n",
    "step_size = 512 # no. of samples\n",
    "\n",
    "rate, signal = wavfile.read(path)\n",
    "feature_plan = yaafelib.FeaturePlan(sample_rate=rate, normalize=True)\n",
    "success = feature_plan.loadFeaturePlan('features.config')\n",
    "engine = yaafelib.Engine()\n",
    "engine.load(feature_plan.getDataFlow())\n",
    "feats = engine.processAudio(signal.reshape(1, -1).astype('float64'))\n",
    "\n",
    "sheets = read_labels('/home/tracek/Projects/birdman/sthelena_labels.xls')\n",
    "sheet_selected = sheets['STHELENA-02_20140605_200000_1']"
   ]
  },
  {
   "cell_type": "code",
   "execution_count": null,
   "metadata": {
    "collapsed": false,
    "deletable": true,
    "editable": true
   },
   "outputs": [],
   "source": [
    "print('No. of calls: {}'.format(len(sheet_selected)))\n",
    "sheet_selected.head()"
   ]
  },
  {
   "cell_type": "code",
   "execution_count": null,
   "metadata": {
    "collapsed": false,
    "deletable": true,
    "editable": true
   },
   "outputs": [],
   "source": [
    "feature_lengths = []\n",
    "storm_petrel_calls = []\n",
    "\n",
    "for idx, row in sheet_selected.iterrows():\n",
    "    if row['Species'] == 'Storm Petrel':\n",
    "        start = int((row['Time Start'] * rate) / step_size)\n",
    "        end = int((row['Time End'] * rate) / step_size)\n",
    "        feature_lengths.append(end - start)\n",
    "        storm_petrel_call_feature = {}\n",
    "        for name, feature in feats.items():\n",
    "            storm_petrel_call_feature[name + '_mean'] = feature[start:end].mean(axis=0)"
   ]
  },
  {
   "cell_type": "code",
   "execution_count": null,
   "metadata": {
    "collapsed": true,
    "deletable": true,
    "editable": true
   },
   "outputs": [],
   "source": []
  }
 ],
 "metadata": {
  "kernelspec": {
   "display_name": "Python 3",
   "language": "python",
   "name": "python3"
  },
  "language_info": {
   "codemirror_mode": {
    "name": "ipython",
    "version": 3
   },
   "file_extension": ".py",
   "mimetype": "text/x-python",
   "name": "python",
   "nbconvert_exporter": "python",
   "pygments_lexer": "ipython3",
   "version": "3.5.2"
  }
 },
 "nbformat": 4,
 "nbformat_minor": 0
}
