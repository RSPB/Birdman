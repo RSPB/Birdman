{
 "cells": [
  {
   "cell_type": "code",
   "execution_count": 15,
   "metadata": {},
   "outputs": [],
   "source": [
    "import os\n",
    "import numpy as np\n",
    "from scipy.io import wavfile\n",
    "from aubio import onset\n",
    "from scipy.signal import butter, lfilter\n",
    "import matplotlib.pyplot as plt\n",
    "\n",
    "from read_labels import read_labels\n",
    "\n",
    "%matplotlib inline"
   ]
  },
  {
   "cell_type": "code",
   "execution_count": 18,
   "metadata": {},
   "outputs": [],
   "source": [
    "rootdir = '/home/tracek/Data/Birdman/'\n",
    "filename = os.path.join(rootdir, 'raw/STHELENA-02_20140605_200000_6.wav')\n",
    "outdir = os.path.join(rootdir, 'raw/samples/')\n",
    "sheets = read_labels('/home/tracek/Data/Birdman/labels/sthelena_labels.xls')\n",
    "filename_noext = os.path.splitext(os.path.basename(filename))[0]\n",
    "sheet = sheets[filename_noext]\n",
    "\n",
    "# in seconds [s]\n",
    "signal_start_s = 0\n",
    "signal_end_s = 95\n",
    "min_duration_s = 0.300\n",
    "max_duration_s = 0.750\n",
    "\n",
    "win = 256 # samples\n",
    "hop = win // 2\n",
    "\n",
    "onset_detector = 'hfc' # other options: complex, phase, specdiff, kl, mkl, specflux, energy\n",
    "onset_threshold = 0.01\n",
    "onset_silence_threshold = -70\n",
    "\n",
    "highpass_cut = 1000 # Hz"
   ]
  },
  {
   "cell_type": "code",
   "execution_count": 3,
   "metadata": {},
   "outputs": [],
   "source": [
    "sr, signal = wavfile.read(filename)\n",
    "scaling_factor = 32767 # signal.max()\n",
    "signal_norm = signal.astype('float32') / scaling_factor"
   ]
  },
  {
   "cell_type": "code",
   "execution_count": 4,
   "metadata": {},
   "outputs": [],
   "source": [
    "def butter_highpass(highcut, fs, order=12):\n",
    "    nyq = 0.5 * fs\n",
    "    high = highcut / nyq\n",
    "    b, a = butter(order, high, btype='highpass')\n",
    "    return b, a\n",
    "\n",
    "b, a = butter_highpass(highpass_cut, sr, order=12)"
   ]
  },
  {
   "cell_type": "code",
   "execution_count": 5,
   "metadata": {},
   "outputs": [],
   "source": [
    "onset_detector = onset(onset_detector, win, hop, sr)\n",
    "onset_detector.set_threshold(onset_threshold)\n",
    "onset_detector.set_silence(onset_silence_threshold)\n",
    "onset_detector.set_minioi_s(min_duration_s)"
   ]
  },
  {
   "cell_type": "code",
   "execution_count": 6,
   "metadata": {},
   "outputs": [
    {
     "ename": "NameError",
     "evalue": "name 'sheet' is not defined",
     "output_type": "error",
     "traceback": [
      "\u001b[0;31m\u001b[0m",
      "\u001b[0;31mNameError\u001b[0mTraceback (most recent call last)",
      "\u001b[0;32m<ipython-input-6-5395799704cd>\u001b[0m in \u001b[0;36m<module>\u001b[0;34m()\u001b[0m\n\u001b[0;32m----> 1\u001b[0;31m \u001b[0mcondition\u001b[0m \u001b[0;34m=\u001b[0m \u001b[0;34m(\u001b[0m\u001b[0msheet\u001b[0m\u001b[0;34m[\u001b[0m\u001b[0;34m'Time Start'\u001b[0m\u001b[0;34m]\u001b[0m \u001b[0;34m>\u001b[0m \u001b[0msignal_start_s\u001b[0m\u001b[0;34m)\u001b[0m \u001b[0;34m&\u001b[0m \u001b[0;34m(\u001b[0m\u001b[0msheet\u001b[0m\u001b[0;34m[\u001b[0m\u001b[0;34m'Time End'\u001b[0m\u001b[0;34m]\u001b[0m \u001b[0;34m<\u001b[0m \u001b[0msignal_end_s\u001b[0m\u001b[0;34m)\u001b[0m\u001b[0;34m\u001b[0m\u001b[0m\n\u001b[0m\u001b[1;32m      2\u001b[0m \u001b[0msheet_selected\u001b[0m \u001b[0;34m=\u001b[0m \u001b[0msheet\u001b[0m\u001b[0;34m[\u001b[0m\u001b[0mcondition\u001b[0m\u001b[0;34m]\u001b[0m\u001b[0;34m\u001b[0m\u001b[0m\n\u001b[1;32m      3\u001b[0m \u001b[0msignal_selected\u001b[0m \u001b[0;34m=\u001b[0m \u001b[0msignal_norm\u001b[0m\u001b[0;34m[\u001b[0m\u001b[0mint\u001b[0m\u001b[0;34m(\u001b[0m\u001b[0msignal_start_s\u001b[0m \u001b[0;34m*\u001b[0m \u001b[0msr\u001b[0m\u001b[0;34m)\u001b[0m\u001b[0;34m:\u001b[0m \u001b[0mint\u001b[0m\u001b[0;34m(\u001b[0m\u001b[0msignal_end_s\u001b[0m \u001b[0;34m*\u001b[0m \u001b[0msr\u001b[0m\u001b[0;34m)\u001b[0m\u001b[0;34m]\u001b[0m\u001b[0;34m\u001b[0m\u001b[0m\n\u001b[1;32m      4\u001b[0m \u001b[0;34m\u001b[0m\u001b[0m\n\u001b[1;32m      5\u001b[0m \u001b[0msignal_filtered\u001b[0m \u001b[0;34m=\u001b[0m \u001b[0mlfilter\u001b[0m\u001b[0;34m(\u001b[0m\u001b[0mb\u001b[0m\u001b[0;34m,\u001b[0m \u001b[0ma\u001b[0m\u001b[0;34m,\u001b[0m \u001b[0msignal_selected\u001b[0m\u001b[0;34m)\u001b[0m\u001b[0;34m.\u001b[0m\u001b[0mastype\u001b[0m\u001b[0;34m(\u001b[0m\u001b[0;34m'float32'\u001b[0m\u001b[0;34m)\u001b[0m\u001b[0;34m\u001b[0m\u001b[0m\n",
      "\u001b[0;31mNameError\u001b[0m: name 'sheet' is not defined"
     ]
    }
   ],
   "source": [
    "condition = (sheet['Time Start'] > signal_start_s) & (sheet['Time End'] < signal_end_s)\n",
    "sheet_selected = sheet[condition]\n",
    "signal_selected = signal_norm[int(signal_start_s * sr): int(signal_end_s * sr)]\n",
    "\n",
    "signal_filtered = lfilter(b, a, signal_selected).astype('float32')\n",
    "\n",
    "signal_windowed = np.array_split(signal_filtered, np.arange(hop, len(signal_filtered), hop))"
   ]
  },
  {
   "cell_type": "code",
   "execution_count": null,
   "metadata": {},
   "outputs": [],
   "source": [
    "onsets = []\n",
    "\n",
    "for frame in signal_windowed[:-1]:\n",
    "    if onset_detector(frame):\n",
    "        onsets.append(onset_detector.get_last_s() + signal_start_s)\n",
    "        \n",
    "print('Found {} onsets in {}s long recording.'.format(len(onsets[1:]), signal_end_s - signal_start_s))"
   ]
  },
  {
   "cell_type": "code",
   "execution_count": null,
   "metadata": {},
   "outputs": [],
   "source": [
    "def onset_in_call(onset, calls_list, buffer=0):\n",
    "    for index, call in calls_list.iterrows():\n",
    "        if call['Time Start'] - buffer >= onset >= call['Time End'] + buffer:\n",
    "            return call['Species']\n",
    "    else:\n",
    "        return None"
   ]
  },
  {
   "cell_type": "code",
   "execution_count": null,
   "metadata": {},
   "outputs": [],
   "source": [
    "x_spacing = np.linspace(signal_start_s, signal_end_s, len(signal_selected))\n",
    "fig = plt.figure(figsize=(15,5))\n",
    "ax = fig.add_subplot(111)\n",
    "for index, row in sheet_selected.iterrows():\n",
    "    if row['Species'] == 'Storm Petrel':\n",
    "        ax.axvspan(xmin=row['Time Start'], xmax=row['Time End'], color='red', alpha=0.1)\n",
    "    else:\n",
    "        ax.axvspan(xmin=row['Time Start'], xmax=row['Time End'], color='green', alpha=0.2)\n",
    "for onset in onsets[1:]:\n",
    "    ax.axvline(x=onset, color='blue', alpha=0.3)\n",
    "    if onset_in_call(onset, sheet_selected, buffer=0):\n",
    "        plt.plot(onset, 6000, 'ro')\n",
    "spec = plt.specgram(signal_filtered, Fs=sr, NFFT=win, noverlap=hop, xextent=(signal_start_s, signal_end_s))"
   ]
  },
  {
   "cell_type": "code",
   "execution_count": null,
   "metadata": {},
   "outputs": [],
   "source": [
    "l = []\n",
    "chunks_s = []\n",
    "\n",
    "for onset, next_onset in zip(onsets, onsets[1:]):\n",
    "    interval = next_onset - onset\n",
    "    cut = next_onset if interval < max_duration_s else onset + max_duration_s\n",
    "    l.append(cut - onset)\n",
    "    chunks_s.append((onset, cut))"
   ]
  },
  {
   "cell_type": "code",
   "execution_count": null,
   "metadata": {},
   "outputs": [],
   "source": [
    "h = plt.hist(l, bins=20)"
   ]
  },
  {
   "cell_type": "code",
   "execution_count": null,
   "metadata": {},
   "outputs": [],
   "source": [
    "# sample *= 32767\n",
    "\n",
    "for start, end in chunks_s[1:]:\n",
    "    basename = os.path.basename(filename)\n",
    "    dirname = os.path.dirname(filename)\n",
    "    call = onset_in_call(start, sheet_selected, buffer=min_duration_s/2)\n",
    "    if call:\n",
    "        chunk_name = '{}_{:07.3f}_{:07.3f}_{}.wav'.format(os.path.splitext(basename)[0], start, end, call)\n",
    "    else:\n",
    "        chunk_name = '{}_{:07.3f}_{:07.3f}.wav'.format(os.path.splitext(basename)[0], start, end)\n",
    "    # chunk_name_highpass = '{}_{:07.3f}_{:07.3f}_highpass.wav'.format(os.path.splitext(basename)[0], start, end)\n",
    "    start_sample = int(start * sr)\n",
    "    end_sample = int(end * sr)\n",
    "    chunk_path_out = os.path.join(dirname, chunk_name)\n",
    "    # chunk_path_out_highpass = os.path.join(dirname, chunk_name_highpass)\n",
    "    wavfile.write(chunk_path_out, sr, signal[start_sample: end_sample])\n",
    "    # wavfile.write(chunk_path_out_highpass, sr, sample[start_sample: end_sample])"
   ]
  },
  {
   "cell_type": "code",
   "execution_count": null,
   "metadata": {},
   "outputs": [],
   "source": [
    "chunks = [(int(start*sr), int(end*sr)) for start, end in chunks_s]"
   ]
  },
  {
   "cell_type": "code",
   "execution_count": null,
   "metadata": {},
   "outputs": [],
   "source": [
    "plt.plot(signal)"
   ]
  },
  {
   "cell_type": "code",
   "execution_count": null,
   "metadata": {},
   "outputs": [],
   "source": [
    "plt.plot(sample)"
   ]
  },
  {
   "cell_type": "code",
   "execution_count": null,
   "metadata": {},
   "outputs": [],
   "source": [
    "a = [1,2,3]"
   ]
  },
  {
   "cell_type": "code",
   "execution_count": null,
   "metadata": {},
   "outputs": [],
   "source": [
    "a[0:]"
   ]
  },
  {
   "cell_type": "code",
   "execution_count": null,
   "metadata": {},
   "outputs": [],
   "source": [
    "a = {'a': 2, 'b':1}"
   ]
  },
  {
   "cell_type": "code",
   "execution_count": null,
   "metadata": {},
   "outputs": [],
   "source": [
    "import configparser\n",
    "\n",
    "config = configparser.ConfigParser()\n",
    "config.read('config.ini')"
   ]
  },
  {
   "cell_type": "code",
   "execution_count": null,
   "metadata": {},
   "outputs": [],
   "source": [
    "config['Labels']['path_xls']"
   ]
  },
  {
   "cell_type": "code",
   "execution_count": null,
   "metadata": {},
   "outputs": [],
   "source": []
  }
 ],
 "metadata": {
  "kernelspec": {
   "display_name": "Python 3",
   "language": "python",
   "name": "python3"
  },
  "language_info": {
   "codemirror_mode": {
    "name": "ipython",
    "version": 3
   },
   "file_extension": ".py",
   "mimetype": "text/x-python",
   "name": "python",
   "nbconvert_exporter": "python",
   "pygments_lexer": "ipython3",
   "version": "3.5.2"
  }
 },
 "nbformat": 4,
 "nbformat_minor": 2
}
