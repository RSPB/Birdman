{
 "cells": [
  {
   "cell_type": "code",
   "execution_count": 1,
   "metadata": {},
   "outputs": [],
   "source": [
    "import os, sys\n",
    "import numpy as np\n",
    "import librosa\n",
    "import librosa.display\n",
    "from scipy.io import wavfile\n",
    "from aubio import onset\n",
    "from scipy.signal import butter, lfilter\n",
    "import matplotlib.pyplot as plt\n",
    "import chop_waves\n",
    "import configobj\n",
    "from validate import Validator\n",
    "\n",
    "config = configobj.ConfigObj('config.ini', configspec='configspec.ini')\n",
    "validation_successful = config.validate(Validator())\n",
    "\n",
    "from read_labels import read_labels\n",
    "\n",
    "%matplotlib inline"
   ]
  },
  {
   "cell_type": "code",
   "execution_count": 2,
   "metadata": {},
   "outputs": [],
   "source": [
    "rootdir = '/home/tracek/Data/Birdman/'\n",
    "filename = os.path.join(rootdir, 'raw/STHELENA-02_20140605_200000_1.wav')\n",
    "outdir = os.path.join(rootdir, 'raw/samples/')\n",
    "sheets = read_labels('/home/tracek/Data/Birdman/labels/sthelena_labels.xls')\n",
    "filename_noext = os.path.splitext(os.path.basename(filename))[0]\n",
    "\n",
    "# in seconds [s]\n",
    "signal_start_s = 0\n",
    "signal_end_s = 95\n",
    "\n",
    "sheet = sheets[filename_noext]\n",
    "condition = (sheet['Time Start'] > signal_start_s) & (sheet['Time End'] < signal_end_s)\n",
    "sheet_selected = sheet[condition]\n",
    "\n",
    "nfft = 256 # samples\n",
    "hop = nfft // 2"
   ]
  },
  {
   "cell_type": "code",
   "execution_count": 3,
   "metadata": {},
   "outputs": [
    {
     "data": {
      "text/plain": [
       "(129, 11876)"
      ]
     },
     "execution_count": 3,
     "metadata": {},
     "output_type": "execute_result"
    }
   ],
   "source": [
    "y, sr = librosa.load(filename, sr=None)\n",
    "y = y[signal_start_s * sr: signal_end_s * sr]\n",
    "S = np.abs(librosa.stft(y, n_fft=nfft, hop_length=hop))\n",
    "D = librosa.amplitude_to_db(S)\n",
    "D.shape"
   ]
  },
  {
   "cell_type": "code",
   "execution_count": null,
   "metadata": {
    "scrolled": false
   },
   "outputs": [],
   "source": [
    "fig = plt.figure(figsize=(15,5))\n",
    "ax = fig.add_subplot(111)\n",
    "\n",
    "librosa.display.specshow(D[25:,:], sr=sr, hop_length=hop, y_axis='linear', x_axis='time')\n",
    "\n",
    "for index, row in sheet_selected.iterrows():\n",
    "    if row['Species'] == 'Storm Petrel':\n",
    "        ax.axvspan(xmin=row['Time Start'], xmax=row['Time End'], color='green', alpha=0.3)\n",
    "    else:\n",
    "        ax.axvspan(xmin=row['Time Start'], xmax=row['Time End'], color='white', alpha=0.3)"
   ]
  },
  {
   "cell_type": "code",
   "execution_count": 4,
   "metadata": {},
   "outputs": [],
   "source": [
    "yh = chop_waves.highpass_filter(y, 500, sr)"
   ]
  },
  {
   "cell_type": "code",
   "execution_count": 7,
   "metadata": {},
   "outputs": [],
   "source": [
    "oenv = librosa.onset.onset_strength(y=yh, sr=sr, aggregate=np.median, fmax=4000, n_mels=100, lag=5)"
   ]
  },
  {
   "cell_type": "code",
   "execution_count": 11,
   "metadata": {},
   "outputs": [],
   "source": [
    "ons = librosa.onset.onset_detect(onset_envelope=oenv, sr=sr, hop_length=hop, backtrack=False, units='samples')"
   ]
  },
  {
   "cell_type": "code",
   "execution_count": 8,
   "metadata": {},
   "outputs": [],
   "source": [
    "ons_back = librosa.onset.onset_detect(onset_envelope=oenv, sr=sr, hop_length=hop, backtrack=True, units='samples')"
   ]
  },
  {
   "cell_type": "code",
   "execution_count": 12,
   "metadata": {},
   "outputs": [
    {
     "data": {
      "text/plain": [
       "56"
      ]
     },
     "execution_count": 12,
     "metadata": {},
     "output_type": "execute_result"
    }
   ],
   "source": [
    "len(ons)"
   ]
  },
  {
   "cell_type": "code",
   "execution_count": null,
   "metadata": {},
   "outputs": [],
   "source": []
  },
  {
   "cell_type": "code",
   "execution_count": null,
   "metadata": {},
   "outputs": [],
   "source": [
    "onsets_forward = chop_waves.get_onsets(yh, sr, config, unit='s')\n",
    "onsets_backward = chop_waves.get_onsets(yh[::-1], sr, config)"
   ]
  },
  {
   "cell_type": "code",
   "execution_count": null,
   "metadata": {},
   "outputs": [],
   "source": [
    "len(onsets_forward)"
   ]
  },
  {
   "cell_type": "code",
   "execution_count": null,
   "metadata": {},
   "outputs": [],
   "source": [
    "len(onsets_backward)"
   ]
  },
  {
   "cell_type": "code",
   "execution_count": null,
   "metadata": {},
   "outputs": [],
   "source": [
    "onsets_backward_reversed = [signal_end_s - onset for onset in onsets_backward]"
   ]
  },
  {
   "cell_type": "code",
   "execution_count": null,
   "metadata": {},
   "outputs": [],
   "source": [
    "onsets_forward"
   ]
  },
  {
   "cell_type": "code",
   "execution_count": null,
   "metadata": {},
   "outputs": [],
   "source": [
    "onsets_backward_reversed[::-1]"
   ]
  },
  {
   "cell_type": "code",
   "execution_count": null,
   "metadata": {},
   "outputs": [],
   "source": [
    "u = 'c'"
   ]
  },
  {
   "cell_type": "code",
   "execution_count": null,
   "metadata": {},
   "outputs": [],
   "source": [
    "u in {'a', 'b'}"
   ]
  },
  {
   "cell_type": "code",
   "execution_count": null,
   "metadata": {},
   "outputs": [],
   "source": []
  }
 ],
 "metadata": {
  "kernelspec": {
   "display_name": "Python 3",
   "language": "python",
   "name": "python3"
  },
  "language_info": {
   "codemirror_mode": {
    "name": "ipython",
    "version": 3
   },
   "file_extension": ".py",
   "mimetype": "text/x-python",
   "name": "python",
   "nbconvert_exporter": "python",
   "pygments_lexer": "ipython3",
   "version": "3.5.2"
  }
 },
 "nbformat": 4,
 "nbformat_minor": 2
}
